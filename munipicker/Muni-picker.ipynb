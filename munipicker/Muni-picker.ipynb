{
 "cells": [
  {
   "cell_type": "markdown",
   "metadata": {},
   "source": [
    "# BC MUNICIPALITY RANDOMIZER"
   ]
  },
  {
   "cell_type": "markdown",
   "metadata": {},
   "source": [
    "Can't pick 5 faves? Generate them randomly!"
   ]
  },
  {
   "cell_type": "code",
   "execution_count": 38,
   "metadata": {},
   "outputs": [],
   "source": [
    "%matplotlib inline \n",
    "from ipywidgets import interact\n",
    "import ipywidgets as widgets\n",
    "import random\n",
    "\n",
    "from shapely import geometry\n",
    "import geopandas as gpd\n",
    "import bcdata\n",
    "\n",
    "# get all municialities!\n",
    "muni_data = gpd.GeoDataFrame(bcdata.get_data('WHSE_LEGAL_ADMIN_BOUNDARIES.ABMS_MUNICIPALITIES_SP'))\n",
    "\n",
    "# load each muni to its own df for easy plotting\n",
    "shapes = [geometry.shape(s['geometry']) for s in muni_data.features]\n",
    "names = [(s['properties']['ADMIN_AREA_NAME']) for s in muni_data.features]\n",
    "muni_dfs = [gpd.GeoDataFrame({'geometry': [x[0]], 'name': [x[1]]})\n",
    "            for x in list(zip(shapes, names))]\n",
    "\n",
    "def plot_munis(x):\n",
    "    \"\"\"Plot some dataframes\n",
    "    \"\"\"\n",
    "    for muni in random.sample(muni_dfs, x):\n",
    "        ax = muni.plot()\n",
    "        ax.set_axis_off()\n",
    "        ax.set_title(muni.name[0])"
   ]
  },
  {
   "cell_type": "markdown",
   "metadata": {},
   "source": [
    "Move the slider if you don't want to commit to five. "
   ]
  },
  {
   "cell_type": "code",
   "execution_count": 35,
   "metadata": {},
   "outputs": [
    {
     "data": {
      "application/vnd.jupyter.widget-view+json": {
       "model_id": "e9e5b54cce1b46c290b817ceda33f604",
       "version_major": 2,
       "version_minor": 0
      },
      "text/plain": [
       "interactive(children=(IntSlider(value=5, description='x', max=5, min=1), Output()), _dom_classes=('widget-inte…"
      ]
     },
     "metadata": {},
     "output_type": "display_data"
    }
   ],
   "source": [
    "interact(plot_munis, x=widgets.IntSlider(min=1,max=5,step=1,value=5))"
   ]
  }
 ],
 "metadata": {
  "kernelspec": {
   "display_name": "Python 3",
   "language": "python",
   "name": "python3"
  },
  "language_info": {
   "codemirror_mode": {
    "name": "ipython",
    "version": 3
   },
   "file_extension": ".py",
   "mimetype": "text/x-python",
   "name": "python",
   "nbconvert_exporter": "python",
   "pygments_lexer": "ipython3",
   "version": "3.7.2"
  }
 },
 "nbformat": 4,
 "nbformat_minor": 2
}
